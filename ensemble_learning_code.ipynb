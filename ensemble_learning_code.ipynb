{
  "nbformat": 4,
  "nbformat_minor": 0,
  "metadata": {
    "colab": {
      "provenance": []
    },
    "kernelspec": {
      "name": "ir",
      "display_name": "R"
    },
    "language_info": {
      "name": "R"
    }
  },
  "cells": [
    {
      "cell_type": "code",
      "execution_count": 1,
      "metadata": {
        "id": "FVjYw1titlHv"
      },
      "outputs": [],
      "source": [
        "#Loading Data\n",
        "music_data=read.csv('/content/music_genre.csv',na.strings=c(\"NA\", \"NULL\"))"
      ]
    },
    {
      "cell_type": "code",
      "source": [
        "#Removing unwanted columns\n",
        "head(music_data)\n",
        "music_data=na.omit(music_data)\n",
        "music_data=music_data[-c(1,2,3,16)]\n",
        "dim(music_data)\n"
      ],
      "metadata": {
        "colab": {
          "base_uri": "https://localhost:8080/",
          "height": 376
        },
        "id": "no-Sv7xZuq5H",
        "outputId": "ea1a060e-1037-4e81-9385-015344ddae54"
      },
      "execution_count": 2,
      "outputs": [
        {
          "output_type": "display_data",
          "data": {
            "text/html": [
              "<table class=\"dataframe\">\n",
              "<caption>A data.frame: 6 × 18</caption>\n",
              "<thead>\n",
              "\t<tr><th></th><th scope=col>instance_id</th><th scope=col>artist_name</th><th scope=col>track_name</th><th scope=col>popularity</th><th scope=col>acousticness</th><th scope=col>danceability</th><th scope=col>duration_ms</th><th scope=col>energy</th><th scope=col>instrumentalness</th><th scope=col>key</th><th scope=col>liveness</th><th scope=col>loudness</th><th scope=col>mode</th><th scope=col>speechiness</th><th scope=col>tempo</th><th scope=col>obtained_date</th><th scope=col>valence</th><th scope=col>music_genre</th></tr>\n",
              "\t<tr><th></th><th scope=col>&lt;dbl&gt;</th><th scope=col>&lt;chr&gt;</th><th scope=col>&lt;chr&gt;</th><th scope=col>&lt;dbl&gt;</th><th scope=col>&lt;dbl&gt;</th><th scope=col>&lt;dbl&gt;</th><th scope=col>&lt;dbl&gt;</th><th scope=col>&lt;dbl&gt;</th><th scope=col>&lt;dbl&gt;</th><th scope=col>&lt;chr&gt;</th><th scope=col>&lt;dbl&gt;</th><th scope=col>&lt;dbl&gt;</th><th scope=col>&lt;chr&gt;</th><th scope=col>&lt;dbl&gt;</th><th scope=col>&lt;chr&gt;</th><th scope=col>&lt;chr&gt;</th><th scope=col>&lt;dbl&gt;</th><th scope=col>&lt;chr&gt;</th></tr>\n",
              "</thead>\n",
              "<tbody>\n",
              "\t<tr><th scope=row>1</th><td>32894</td><td>Röyksopp            </td><td>Röyksopp's Night Out</td><td>27</td><td>0.00468</td><td>0.652</td><td>    -1</td><td>0.941</td><td>0.79200</td><td>A#</td><td>0.115</td><td> -5.201</td><td>Minor</td><td>0.0748</td><td>100.889           </td><td>4-Apr</td><td>0.759</td><td>Electronic</td></tr>\n",
              "\t<tr><th scope=row>2</th><td>46652</td><td>Thievery Corporation</td><td>The Shining Path    </td><td>31</td><td>0.01270</td><td>0.622</td><td>218293</td><td>0.890</td><td>0.95000</td><td>D </td><td>0.124</td><td> -7.043</td><td>Minor</td><td>0.0300</td><td>115.00200000000001</td><td>4-Apr</td><td>0.531</td><td>Electronic</td></tr>\n",
              "\t<tr><th scope=row>3</th><td>30097</td><td>Dillon Francis      </td><td>Hurricane           </td><td>28</td><td>0.00306</td><td>0.620</td><td>215613</td><td>0.755</td><td>0.01180</td><td>G#</td><td>0.534</td><td> -4.617</td><td>Major</td><td>0.0345</td><td>127.994           </td><td>4-Apr</td><td>0.333</td><td>Electronic</td></tr>\n",
              "\t<tr><th scope=row>4</th><td>62177</td><td>Dubloadz            </td><td>Nitro               </td><td>34</td><td>0.02540</td><td>0.774</td><td>166875</td><td>0.700</td><td>0.00253</td><td>C#</td><td>0.157</td><td> -4.498</td><td>Major</td><td>0.2390</td><td>128.014           </td><td>4-Apr</td><td>0.270</td><td>Electronic</td></tr>\n",
              "\t<tr><th scope=row>5</th><td>24907</td><td><span style=white-space:pre-wrap>What So Not         </span></td><td><span style=white-space:pre-wrap>Divide &amp; Conquer    </span></td><td>32</td><td>0.00465</td><td>0.638</td><td>222369</td><td>0.587</td><td>0.90900</td><td>F#</td><td>0.157</td><td> -6.266</td><td>Major</td><td>0.0413</td><td><span style=white-space:pre-wrap>145.036           </span></td><td>4-Apr</td><td>0.323</td><td>Electronic</td></tr>\n",
              "\t<tr><th scope=row>6</th><td>89064</td><td>Axel Boman          </td><td>Hello               </td><td>47</td><td>0.00523</td><td>0.755</td><td>519468</td><td>0.731</td><td>0.85400</td><td>D </td><td>0.216</td><td>-10.517</td><td>Minor</td><td>0.0412</td><td>?                 </td><td>4-Apr</td><td>0.614</td><td>Electronic</td></tr>\n",
              "</tbody>\n",
              "</table>\n"
            ],
            "text/markdown": "\nA data.frame: 6 × 18\n\n| <!--/--> | instance_id &lt;dbl&gt; | artist_name &lt;chr&gt; | track_name &lt;chr&gt; | popularity &lt;dbl&gt; | acousticness &lt;dbl&gt; | danceability &lt;dbl&gt; | duration_ms &lt;dbl&gt; | energy &lt;dbl&gt; | instrumentalness &lt;dbl&gt; | key &lt;chr&gt; | liveness &lt;dbl&gt; | loudness &lt;dbl&gt; | mode &lt;chr&gt; | speechiness &lt;dbl&gt; | tempo &lt;chr&gt; | obtained_date &lt;chr&gt; | valence &lt;dbl&gt; | music_genre &lt;chr&gt; |\n|---|---|---|---|---|---|---|---|---|---|---|---|---|---|---|---|---|---|---|\n| 1 | 32894 | Röyksopp             | Röyksopp's Night Out | 27 | 0.00468 | 0.652 |     -1 | 0.941 | 0.79200 | A# | 0.115 |  -5.201 | Minor | 0.0748 | 100.889            | 4-Apr | 0.759 | Electronic |\n| 2 | 46652 | Thievery Corporation | The Shining Path     | 31 | 0.01270 | 0.622 | 218293 | 0.890 | 0.95000 | D  | 0.124 |  -7.043 | Minor | 0.0300 | 115.00200000000001 | 4-Apr | 0.531 | Electronic |\n| 3 | 30097 | Dillon Francis       | Hurricane            | 28 | 0.00306 | 0.620 | 215613 | 0.755 | 0.01180 | G# | 0.534 |  -4.617 | Major | 0.0345 | 127.994            | 4-Apr | 0.333 | Electronic |\n| 4 | 62177 | Dubloadz             | Nitro                | 34 | 0.02540 | 0.774 | 166875 | 0.700 | 0.00253 | C# | 0.157 |  -4.498 | Major | 0.2390 | 128.014            | 4-Apr | 0.270 | Electronic |\n| 5 | 24907 | What So Not          | Divide &amp; Conquer     | 32 | 0.00465 | 0.638 | 222369 | 0.587 | 0.90900 | F# | 0.157 |  -6.266 | Major | 0.0413 | 145.036            | 4-Apr | 0.323 | Electronic |\n| 6 | 89064 | Axel Boman           | Hello                | 47 | 0.00523 | 0.755 | 519468 | 0.731 | 0.85400 | D  | 0.216 | -10.517 | Minor | 0.0412 | ?                  | 4-Apr | 0.614 | Electronic |\n\n",
            "text/latex": "A data.frame: 6 × 18\n\\begin{tabular}{r|llllllllllllllllll}\n  & instance\\_id & artist\\_name & track\\_name & popularity & acousticness & danceability & duration\\_ms & energy & instrumentalness & key & liveness & loudness & mode & speechiness & tempo & obtained\\_date & valence & music\\_genre\\\\\n  & <dbl> & <chr> & <chr> & <dbl> & <dbl> & <dbl> & <dbl> & <dbl> & <dbl> & <chr> & <dbl> & <dbl> & <chr> & <dbl> & <chr> & <chr> & <dbl> & <chr>\\\\\n\\hline\n\t1 & 32894 & Röyksopp             & Röyksopp's Night Out & 27 & 0.00468 & 0.652 &     -1 & 0.941 & 0.79200 & A\\# & 0.115 &  -5.201 & Minor & 0.0748 & 100.889            & 4-Apr & 0.759 & Electronic\\\\\n\t2 & 46652 & Thievery Corporation & The Shining Path     & 31 & 0.01270 & 0.622 & 218293 & 0.890 & 0.95000 & D  & 0.124 &  -7.043 & Minor & 0.0300 & 115.00200000000001 & 4-Apr & 0.531 & Electronic\\\\\n\t3 & 30097 & Dillon Francis       & Hurricane            & 28 & 0.00306 & 0.620 & 215613 & 0.755 & 0.01180 & G\\# & 0.534 &  -4.617 & Major & 0.0345 & 127.994            & 4-Apr & 0.333 & Electronic\\\\\n\t4 & 62177 & Dubloadz             & Nitro                & 34 & 0.02540 & 0.774 & 166875 & 0.700 & 0.00253 & C\\# & 0.157 &  -4.498 & Major & 0.2390 & 128.014            & 4-Apr & 0.270 & Electronic\\\\\n\t5 & 24907 & What So Not          & Divide \\& Conquer     & 32 & 0.00465 & 0.638 & 222369 & 0.587 & 0.90900 & F\\# & 0.157 &  -6.266 & Major & 0.0413 & 145.036            & 4-Apr & 0.323 & Electronic\\\\\n\t6 & 89064 & Axel Boman           & Hello                & 47 & 0.00523 & 0.755 & 519468 & 0.731 & 0.85400 & D  & 0.216 & -10.517 & Minor & 0.0412 & ?                  & 4-Apr & 0.614 & Electronic\\\\\n\\end{tabular}\n",
            "text/plain": [
              "  instance_id artist_name          track_name           popularity acousticness\n",
              "1 32894       Röyksopp             Röyksopp's Night Out 27         0.00468     \n",
              "2 46652       Thievery Corporation The Shining Path     31         0.01270     \n",
              "3 30097       Dillon Francis       Hurricane            28         0.00306     \n",
              "4 62177       Dubloadz             Nitro                34         0.02540     \n",
              "5 24907       What So Not          Divide & Conquer     32         0.00465     \n",
              "6 89064       Axel Boman           Hello                47         0.00523     \n",
              "  danceability duration_ms energy instrumentalness key liveness loudness mode \n",
              "1 0.652            -1      0.941  0.79200          A#  0.115     -5.201  Minor\n",
              "2 0.622        218293      0.890  0.95000          D   0.124     -7.043  Minor\n",
              "3 0.620        215613      0.755  0.01180          G#  0.534     -4.617  Major\n",
              "4 0.774        166875      0.700  0.00253          C#  0.157     -4.498  Major\n",
              "5 0.638        222369      0.587  0.90900          F#  0.157     -6.266  Major\n",
              "6 0.755        519468      0.731  0.85400          D   0.216    -10.517  Minor\n",
              "  speechiness tempo              obtained_date valence music_genre\n",
              "1 0.0748      100.889            4-Apr         0.759   Electronic \n",
              "2 0.0300      115.00200000000001 4-Apr         0.531   Electronic \n",
              "3 0.0345      127.994            4-Apr         0.333   Electronic \n",
              "4 0.2390      128.014            4-Apr         0.270   Electronic \n",
              "5 0.0413      145.036            4-Apr         0.323   Electronic \n",
              "6 0.0412      ?                  4-Apr         0.614   Electronic "
            ]
          },
          "metadata": {}
        },
        {
          "output_type": "display_data",
          "data": {
            "text/html": [
              "<style>\n",
              ".list-inline {list-style: none; margin:0; padding: 0}\n",
              ".list-inline>li {display: inline-block}\n",
              ".list-inline>li:not(:last-child)::after {content: \"\\00b7\"; padding: 0 .5ex}\n",
              "</style>\n",
              "<ol class=list-inline><li>50000</li><li>14</li></ol>\n"
            ],
            "text/markdown": "1. 50000\n2. 14\n\n\n",
            "text/latex": "\\begin{enumerate*}\n\\item 50000\n\\item 14\n\\end{enumerate*}\n",
            "text/plain": [
              "[1] 50000    14"
            ]
          },
          "metadata": {}
        }
      ]
    },
    {
      "cell_type": "code",
      "source": [
        "install.packages('mltools')\n",
        "library(mltools)\n",
        "library(data.table)"
      ],
      "metadata": {
        "colab": {
          "base_uri": "https://localhost:8080/"
        },
        "id": "700NR8HnvGz4",
        "outputId": "cbb63abc-c9c1-4d3a-dbc0-194d02a7787d"
      },
      "execution_count": 3,
      "outputs": [
        {
          "output_type": "stream",
          "name": "stderr",
          "text": [
            "Installing package into ‘/usr/local/lib/R/site-library’\n",
            "(as ‘lib’ is unspecified)\n",
            "\n"
          ]
        }
      ]
    },
    {
      "cell_type": "code",
      "source": [
        "install.packages(\"dplyr\")\n",
        "library(dplyr)"
      ],
      "metadata": {
        "colab": {
          "base_uri": "https://localhost:8080/"
        },
        "id": "V8f3GG6bvjSN",
        "outputId": "0c84da33-ab95-4ede-df85-cf77251c62d9"
      },
      "execution_count": 4,
      "outputs": [
        {
          "output_type": "stream",
          "name": "stderr",
          "text": [
            "Installing package into ‘/usr/local/lib/R/site-library’\n",
            "(as ‘lib’ is unspecified)\n",
            "\n",
            "\n",
            "Attaching package: ‘dplyr’\n",
            "\n",
            "\n",
            "The following objects are masked from ‘package:data.table’:\n",
            "\n",
            "    between, first, last\n",
            "\n",
            "\n",
            "The following objects are masked from ‘package:stats’:\n",
            "\n",
            "    filter, lag\n",
            "\n",
            "\n",
            "The following objects are masked from ‘package:base’:\n",
            "\n",
            "    intersect, setdiff, setequal, union\n",
            "\n",
            "\n"
          ]
        }
      ]
    },
    {
      "cell_type": "code",
      "source": [
        "#oOne hot encoding\n",
        "music_data=one_hot(as.data.table(music_data))\n",
        "music_data$mode <- as.factor(music_data$mode)\n",
        "music_data <- one_hot(as.data.table(music_data))\n"
      ],
      "metadata": {
        "id": "liE2pCa1vIm9"
      },
      "execution_count": 5,
      "outputs": []
    },
    {
      "cell_type": "code",
      "source": [
        "#removing unwanted columns\n",
        "music_data=select(music_data,-c(4,7))\n",
        "dim(music_data)"
      ],
      "metadata": {
        "colab": {
          "base_uri": "https://localhost:8080/",
          "height": 34
        },
        "id": "V_tUGIFlvyB-",
        "outputId": "39c4df98-dce1-4b4f-f6d7-95bffb52ae22"
      },
      "execution_count": 6,
      "outputs": [
        {
          "output_type": "display_data",
          "data": {
            "text/html": [
              "<style>\n",
              ".list-inline {list-style: none; margin:0; padding: 0}\n",
              ".list-inline>li {display: inline-block}\n",
              ".list-inline>li:not(:last-child)::after {content: \"\\00b7\"; padding: 0 .5ex}\n",
              "</style>\n",
              "<ol class=list-inline><li>50000</li><li>13</li></ol>\n"
            ],
            "text/markdown": "1. 50000\n2. 13\n\n\n",
            "text/latex": "\\begin{enumerate*}\n\\item 50000\n\\item 13\n\\end{enumerate*}\n",
            "text/plain": [
              "[1] 50000    13"
            ]
          },
          "metadata": {}
        }
      ]
    },
    {
      "cell_type": "code",
      "source": [
        "music_data=select(music_data,-c(11))"
      ],
      "metadata": {
        "id": "8_c1EKbEwB5D"
      },
      "execution_count": 7,
      "outputs": []
    },
    {
      "cell_type": "code",
      "source": [
        "names(music_data)"
      ],
      "metadata": {
        "colab": {
          "base_uri": "https://localhost:8080/",
          "height": 52
        },
        "id": "7JfOUGUzv1-U",
        "outputId": "4ba0a113-5126-404c-a9a9-20de63536f39"
      },
      "execution_count": 8,
      "outputs": [
        {
          "output_type": "display_data",
          "data": {
            "text/html": [
              "<style>\n",
              ".list-inline {list-style: none; margin:0; padding: 0}\n",
              ".list-inline>li {display: inline-block}\n",
              ".list-inline>li:not(:last-child)::after {content: \"\\00b7\"; padding: 0 .5ex}\n",
              "</style>\n",
              "<ol class=list-inline><li>'popularity'</li><li>'acousticness'</li><li>'danceability'</li><li>'energy'</li><li>'instrumentalness'</li><li>'liveness'</li><li>'loudness'</li><li>'mode_Major'</li><li>'mode_Minor'</li><li>'speechiness'</li><li>'valence'</li><li>'music_genre'</li></ol>\n"
            ],
            "text/markdown": "1. 'popularity'\n2. 'acousticness'\n3. 'danceability'\n4. 'energy'\n5. 'instrumentalness'\n6. 'liveness'\n7. 'loudness'\n8. 'mode_Major'\n9. 'mode_Minor'\n10. 'speechiness'\n11. 'valence'\n12. 'music_genre'\n\n\n",
            "text/latex": "\\begin{enumerate*}\n\\item 'popularity'\n\\item 'acousticness'\n\\item 'danceability'\n\\item 'energy'\n\\item 'instrumentalness'\n\\item 'liveness'\n\\item 'loudness'\n\\item 'mode\\_Major'\n\\item 'mode\\_Minor'\n\\item 'speechiness'\n\\item 'valence'\n\\item 'music\\_genre'\n\\end{enumerate*}\n",
            "text/plain": [
              " [1] \"popularity\"       \"acousticness\"     \"danceability\"     \"energy\"          \n",
              " [5] \"instrumentalness\" \"liveness\"         \"loudness\"         \"mode_Major\"      \n",
              " [9] \"mode_Minor\"       \"speechiness\"      \"valence\"          \"music_genre\"     "
            ]
          },
          "metadata": {}
        }
      ]
    },
    {
      "cell_type": "code",
      "source": [
        "install.packages('caret')\n",
        "library(caret)"
      ],
      "metadata": {
        "colab": {
          "base_uri": "https://localhost:8080/"
        },
        "id": "b7Ofm0Nd0CUq",
        "outputId": "2c9db00a-6c2c-4c45-cf81-c52668c74f14"
      },
      "execution_count": null,
      "outputs": [
        {
          "output_type": "stream",
          "name": "stderr",
          "text": [
            "Installing package into ‘/usr/local/lib/R/site-library’\n",
            "(as ‘lib’ is unspecified)\n",
            "\n",
            "also installing the dependencies ‘listenv’, ‘parallelly’, ‘future’, ‘globals’, ‘future.apply’, ‘numDeriv’, ‘progressr’, ‘SQUAREM’, ‘lava’, ‘prodlim’, ‘proxy’, ‘iterators’, ‘Rcpp’, ‘clock’, ‘gower’, ‘hardhat’, ‘ipred’, ‘timeDate’, ‘e1071’, ‘foreach’, ‘ModelMetrics’, ‘plyr’, ‘pROC’, ‘recipes’, ‘reshape2’\n",
            "\n",
            "\n"
          ]
        }
      ]
    },
    {
      "cell_type": "code",
      "source": [
        "#Data split\n",
        "set.seed(5596)\n",
        "idx=sample(1:nrow(music_data),0.8*nrow(music_data))\n",
        "train_set=music_data[idx,]\n",
        "test_set=music_data[-idx,]"
      ],
      "metadata": {
        "id": "9Sxxx-uw0IF6"
      },
      "execution_count": null,
      "outputs": []
    },
    {
      "cell_type": "code",
      "source": [
        "install.packages(\"SimDesign\")\n"
      ],
      "metadata": {
        "id": "VoCOQBqCLcG2",
        "colab": {
          "base_uri": "https://localhost:8080/"
        },
        "outputId": "5e0d42e4-3cc4-4f0a-a093-aa92a068ce4e"
      },
      "execution_count": null,
      "outputs": [
        {
          "output_type": "stream",
          "name": "stderr",
          "text": [
            "Installing package into ‘/usr/local/lib/R/site-library’\n",
            "(as ‘lib’ is unspecified)\n",
            "\n"
          ]
        }
      ]
    },
    {
      "cell_type": "code",
      "source": [
        "library(SimDesign)\n",
        "library(data.table)"
      ],
      "metadata": {
        "colab": {
          "base_uri": "https://localhost:8080/"
        },
        "id": "An2PZ4KUkUYM",
        "outputId": "4a5f4070-57b3-4afb-a93b-e4796fe09f74"
      },
      "execution_count": null,
      "outputs": [
        {
          "output_type": "stream",
          "name": "stderr",
          "text": [
            "\n",
            "Attaching package: ‘SimDesign’\n",
            "\n",
            "\n",
            "The following objects are masked from ‘package:caret’:\n",
            "\n",
            "    MAE, RMSE\n",
            "\n",
            "\n"
          ]
        }
      ]
    },
    {
      "cell_type": "code",
      "source": [
        "#Dimensions of train and test set\n",
        "dim(train_set)\n",
        "dim(test_set)"
      ],
      "metadata": {
        "colab": {
          "base_uri": "https://localhost:8080/",
          "height": 52
        },
        "id": "UEXMe3gj0INu",
        "outputId": "f5e6da9a-f0f4-4f1f-f8a5-177c9f96f8b7"
      },
      "execution_count": null,
      "outputs": [
        {
          "output_type": "display_data",
          "data": {
            "text/html": [
              "<style>\n",
              ".list-inline {list-style: none; margin:0; padding: 0}\n",
              ".list-inline>li {display: inline-block}\n",
              ".list-inline>li:not(:last-child)::after {content: \"\\00b7\"; padding: 0 .5ex}\n",
              "</style>\n",
              "<ol class=list-inline><li>40000</li><li>12</li></ol>\n"
            ],
            "text/markdown": "1. 40000\n2. 12\n\n\n",
            "text/latex": "\\begin{enumerate*}\n\\item 40000\n\\item 12\n\\end{enumerate*}\n",
            "text/plain": [
              "[1] 40000    12"
            ]
          },
          "metadata": {}
        },
        {
          "output_type": "display_data",
          "data": {
            "text/html": [
              "<style>\n",
              ".list-inline {list-style: none; margin:0; padding: 0}\n",
              ".list-inline>li {display: inline-block}\n",
              ".list-inline>li:not(:last-child)::after {content: \"\\00b7\"; padding: 0 .5ex}\n",
              "</style>\n",
              "<ol class=list-inline><li>10000</li><li>12</li></ol>\n"
            ],
            "text/markdown": "1. 10000\n2. 12\n\n\n",
            "text/latex": "\\begin{enumerate*}\n\\item 10000\n\\item 12\n\\end{enumerate*}\n",
            "text/plain": [
              "[1] 10000    12"
            ]
          },
          "metadata": {}
        }
      ]
    },
    {
      "cell_type": "markdown",
      "source": [
        "**RANDOM FOREST**"
      ],
      "metadata": {
        "id": "rTqz36fr0VBQ"
      }
    },
    {
      "cell_type": "code",
      "source": [
        "install.packages(\"randomForest\")\n",
        "library(randomForest)"
      ],
      "metadata": {
        "id": "QVVLTvbA1qY8"
      },
      "execution_count": null,
      "outputs": []
    },
    {
      "cell_type": "code",
      "source": [
        "require(randomForest)\n",
        "require(caret)\n",
        "formstr=\"music_genre~.\" # Formula argument with all features\n",
        "trdf_RF=train_set\n",
        "dim(trdf_RF)\n",
        "trdf_RF$music_genre=as.factor(trdf_RF$music_genre) # Makes it run as classification\n",
        "RF_model=randomForest(music_genre~.,trdf_RF) "
      ],
      "metadata": {
        "colab": {
          "base_uri": "https://localhost:8080/",
          "height": 34
        },
        "id": "CTUEaxAL0XzX",
        "outputId": "78c236d5-1803-4408-c7e4-c775759aa786"
      },
      "execution_count": null,
      "outputs": [
        {
          "output_type": "display_data",
          "data": {
            "text/html": [
              "<style>\n",
              ".list-inline {list-style: none; margin:0; padding: 0}\n",
              ".list-inline>li {display: inline-block}\n",
              ".list-inline>li:not(:last-child)::after {content: \"\\00b7\"; padding: 0 .5ex}\n",
              "</style>\n",
              "<ol class=list-inline><li>40000</li><li>12</li></ol>\n"
            ],
            "text/markdown": "1. 40000\n2. 12\n\n\n",
            "text/latex": "\\begin{enumerate*}\n\\item 40000\n\\item 12\n\\end{enumerate*}\n",
            "text/plain": [
              "[1] 40000    12"
            ]
          },
          "metadata": {}
        }
      ]
    },
    {
      "cell_type": "code",
      "source": [
        "RF_model"
      ],
      "metadata": {
        "colab": {
          "base_uri": "https://localhost:8080/",
          "height": 571
        },
        "id": "_W0SU9FtFrvI",
        "outputId": "56dc686d-74fa-467a-ad20-8cdc9b6cda23"
      },
      "execution_count": null,
      "outputs": [
        {
          "output_type": "display_data",
          "data": {
            "text/plain": [
              "\n",
              "Call:\n",
              " randomForest(formula = music_genre ~ ., data = trdf_RF) \n",
              "               Type of random forest: classification\n",
              "                     Number of trees: 500\n",
              "No. of variables tried at each split: 3\n",
              "\n",
              "        OOB estimate of  error rate: 46.56%\n",
              "Confusion matrix:\n",
              "            Alternative Anime Blues Classical Country Electronic Hip-Hop Jazz\n",
              "Alternative        1482    35    93        14     506        230     339  247\n",
              "Anime               112  2878   276       295     176        178       1   62\n",
              "Blues               192   349  2121        64     355        222      13  476\n",
              "Classical            93   156    94      3355      25         79       1  181\n",
              "Country             325    55   221         3    2219         60      57  217\n",
              "Electronic          260   189   278        26     107       2398      74  520\n",
              "Hip-Hop             193     1     3         0      42         31    1410   39\n",
              "Jazz                166    58   474       255     227        589      74 1977\n",
              "Rap                 157     2     3         0      51         15    2207   22\n",
              "Rock                574    17    78        11     436         30     146   88\n",
              "             Rap Rock class.error\n",
              "Alternative  212  869   0.6319841\n",
              "Anime          1   27   0.2815776\n",
              "Blues          6  214   0.4713360\n",
              "Classical      0   13   0.1606205\n",
              "Country       66  793   0.4474602\n",
              "Electronic    46  109   0.4015473\n",
              "Hip-Hop     2035  184   0.6419502\n",
              "Jazz          18  164   0.5059970\n",
              "Rap         1161  382   0.7097500\n",
              "Rock         240 2375   0.4055069"
            ]
          },
          "metadata": {}
        }
      ]
    },
    {
      "cell_type": "code",
      "source": [
        "p1=predict(RF_model, trdf_RF)\n",
        "confusionMatrix(table(p1,trdf_RF$music_genre))"
      ],
      "metadata": {
        "colab": {
          "base_uri": "https://localhost:8080/",
          "height": 1000
        },
        "id": "LM-fMghL0X2O",
        "outputId": "cffd2c92-bbf5-42fb-a23d-fdcbb7bb9b0f"
      },
      "execution_count": null,
      "outputs": [
        {
          "output_type": "display_data",
          "data": {
            "text/plain": [
              "Confusion Matrix and Statistics\n",
              "\n",
              "             \n",
              "p1            Alternative Anime Blues Classical Country Electronic Hip-Hop Jazz\n",
              "  Alternative        4022     1    31         0       0          0       0    0\n",
              "  Anime                 0  4005     0         0       0          0       0    0\n",
              "  Blues                 4     0  3980         1       0          0       0    0\n",
              "  Classical             0     0     0      3993       0          0       0    4\n",
              "  Country               1     0     0         0    3958          0       0    8\n",
              "  Electronic            0     0     0         0       0       3994       3   67\n",
              "  Hip-Hop               0     0     0         0       1          0    3808   11\n",
              "  Jazz                  0     0     0         3       0         11       0 3910\n",
              "  Rap                   0     0     0         0       4          0     124    0\n",
              "  Rock                  0     0     1         0      53          2       3    2\n",
              "             \n",
              "p1             Rap Rock\n",
              "  Alternative    0    3\n",
              "  Anime          0    0\n",
              "  Blues          0    1\n",
              "  Classical      0    0\n",
              "  Country       10  114\n",
              "  Electronic     2    2\n",
              "  Hip-Hop      985   13\n",
              "  Jazz           2    3\n",
              "  Rap         2975   65\n",
              "  Rock          26 3794\n",
              "\n",
              "Overall Statistics\n",
              "                                         \n",
              "               Accuracy : 0.961          \n",
              "                 95% CI : (0.959, 0.9629)\n",
              "    No Information Rate : 0.1007         \n",
              "    P-Value [Acc > NIR] : < 2.2e-16      \n",
              "                                         \n",
              "                  Kappa : 0.9566         \n",
              "                                         \n",
              " Mcnemar's Test P-Value : NA             \n",
              "\n",
              "Statistics by Class:\n",
              "\n",
              "                     Class: Alternative Class: Anime Class: Blues\n",
              "Sensitivity                      0.9988       0.9998      0.99202\n",
              "Specificity                      0.9990       1.0000      0.99983\n",
              "Pos Pred Value                   0.9914       1.0000      0.99849\n",
              "Neg Pred Value                   0.9999       1.0000      0.99911\n",
              "Prevalence                       0.1007       0.1002      0.10030\n",
              "Detection Rate                   0.1006       0.1001      0.09950\n",
              "Detection Prevalence             0.1014       0.1001      0.09965\n",
              "Balanced Accuracy                0.9989       0.9999      0.99593\n",
              "                     Class: Classical Class: Country Class: Electronic\n",
              "Sensitivity                   0.99900        0.98556           0.99676\n",
              "Specificity                   0.99989        0.99630           0.99794\n",
              "Pos Pred Value                0.99900        0.96749           0.98181\n",
              "Neg Pred Value                0.99989        0.99838           0.99964\n",
              "Prevalence                    0.09992        0.10040           0.10018\n",
              "Detection Rate                0.09982        0.09895           0.09985\n",
              "Detection Prevalence          0.09992        0.10228           0.10170\n",
              "Balanced Accuracy             0.99944        0.99093           0.99735\n",
              "                     Class: Hip-Hop Class: Jazz Class: Rap Class: Rock\n",
              "Sensitivity                 0.96699     0.97701    0.74375     0.94969\n",
              "Specificity                 0.97199     0.99947    0.99464     0.99758\n",
              "Pos Pred Value              0.79037     0.99516    0.93908     0.97758\n",
              "Neg Pred Value              0.99630     0.99745    0.97217     0.99444\n",
              "Prevalence                  0.09845     0.10005    0.10000     0.09988\n",
              "Detection Rate              0.09520     0.09775    0.07437     0.09485\n",
              "Detection Prevalence        0.12045     0.09823    0.07920     0.09703\n",
              "Balanced Accuracy           0.96949     0.98824    0.86919     0.97364"
            ]
          },
          "metadata": {}
        }
      ]
    },
    {
      "cell_type": "code",
      "source": [
        "tstdf_RF=test_set\n",
        "dim(tstdf_RF)\n",
        "tstdf_RF$music_genre=as.factor(tstdf_RF$music_genre)"
      ],
      "metadata": {
        "colab": {
          "base_uri": "https://localhost:8080/",
          "height": 34
        },
        "id": "gZvfF0Ww5PfO",
        "outputId": "105aa809-5d38-47c6-f756-7a7dc7775bdb"
      },
      "execution_count": null,
      "outputs": [
        {
          "output_type": "display_data",
          "data": {
            "text/html": [
              "<style>\n",
              ".list-inline {list-style: none; margin:0; padding: 0}\n",
              ".list-inline>li {display: inline-block}\n",
              ".list-inline>li:not(:last-child)::after {content: \"\\00b7\"; padding: 0 .5ex}\n",
              "</style>\n",
              "<ol class=list-inline><li>10000</li><li>12</li></ol>\n"
            ],
            "text/markdown": "1. 10000\n2. 12\n\n\n",
            "text/latex": "\\begin{enumerate*}\n\\item 10000\n\\item 12\n\\end{enumerate*}\n",
            "text/plain": [
              "[1] 10000    12"
            ]
          },
          "metadata": {}
        }
      ]
    },
    {
      "cell_type": "code",
      "source": [
        "p2 <- predict(RF_model, tstdf_RF)\n",
        "confusionMatrix(p2,tstdf_RF$music_genre)"
      ],
      "metadata": {
        "colab": {
          "base_uri": "https://localhost:8080/",
          "height": 1000
        },
        "id": "WLsSRj4P1aqL",
        "outputId": "9f69c6ec-d9c6-4acd-9f2b-38f3af21fda1"
      },
      "execution_count": null,
      "outputs": [
        {
          "output_type": "display_data",
          "data": {
            "text/plain": [
              "Confusion Matrix and Statistics\n",
              "\n",
              "             Reference\n",
              "Prediction    Alternative Anime Blues Classical Country Electronic Hip-Hop Jazz\n",
              "  Alternative         369    28    67        28      79         75      53   43\n",
              "  Anime                 9   726    78        36      21         35       1    8\n",
              "  Blues                22    58   514        30      46         66       1  104\n",
              "  Classical             1    71    14       840       1          8       0   72\n",
              "  Country             115    39    82         4     541         26       6   61\n",
              "  Electronic           40    47    63        10       9        587      12  128\n",
              "  Hip-Hop              83     1     3         0      25         16     379   23\n",
              "  Jazz                 59    18   118        49      64        133      16  512\n",
              "  Rap                  64     0     0         1      18          8     555    9\n",
              "  Rock                211     6    49         5     180         39      39   38\n",
              "             Reference\n",
              "Prediction    Rap Rock\n",
              "  Alternative  33  149\n",
              "  Anime         0    5\n",
              "  Blues         3   14\n",
              "  Classical     0    3\n",
              "  Country      11  106\n",
              "  Electronic    7    8\n",
              "  Hip-Hop     535   33\n",
              "  Jazz          3   20\n",
              "  Rap         300   48\n",
              "  Rock        108  619\n",
              "\n",
              "Overall Statistics\n",
              "                                          \n",
              "               Accuracy : 0.5387          \n",
              "                 95% CI : (0.5289, 0.5485)\n",
              "    No Information Rate : 0.1062          \n",
              "    P-Value [Acc > NIR] : < 2.2e-16       \n",
              "                                          \n",
              "                  Kappa : 0.4874          \n",
              "                                          \n",
              " Mcnemar's Test P-Value : NA              \n",
              "\n",
              "Statistics by Class:\n",
              "\n",
              "                     Class: Alternative Class: Anime Class: Blues\n",
              "Sensitivity                      0.3792       0.7304       0.5202\n",
              "Specificity                      0.9385       0.9786       0.9618\n",
              "Pos Pred Value                   0.3994       0.7900       0.5991\n",
              "Neg Pred Value                   0.9335       0.9705       0.9482\n",
              "Prevalence                       0.0973       0.0994       0.0988\n",
              "Detection Rate                   0.0369       0.0726       0.0514\n",
              "Detection Prevalence             0.0924       0.0919       0.0858\n",
              "Balanced Accuracy                0.6589       0.8545       0.7410\n",
              "                     Class: Classical Class: Country Class: Electronic\n",
              "Sensitivity                    0.8375         0.5498            0.5911\n",
              "Specificity                    0.9811         0.9501            0.9640\n",
              "Pos Pred Value                 0.8317         0.5459            0.6443\n",
              "Neg Pred Value                 0.9819         0.9508            0.9553\n",
              "Prevalence                     0.1003         0.0984            0.0993\n",
              "Detection Rate                 0.0840         0.0541            0.0587\n",
              "Detection Prevalence           0.1010         0.0991            0.0911\n",
              "Balanced Accuracy              0.9093         0.7499            0.7776\n",
              "                     Class: Hip-Hop Class: Jazz Class: Rap Class: Rock\n",
              "Sensitivity                  0.3569      0.5130     0.3000      0.6159\n",
              "Specificity                  0.9196      0.9467     0.9219      0.9250\n",
              "Pos Pred Value               0.3452      0.5161     0.2991      0.4784\n",
              "Neg Pred Value               0.9233      0.9460     0.9222      0.9557\n",
              "Prevalence                   0.1062      0.0998     0.1000      0.1005\n",
              "Detection Rate               0.0379      0.0512     0.0300      0.0619\n",
              "Detection Prevalence         0.1098      0.0992     0.1003      0.1294\n",
              "Balanced Accuracy            0.6382      0.7299     0.6109      0.7704"
            ]
          },
          "metadata": {}
        }
      ]
    },
    {
      "cell_type": "code",
      "source": [
        "#Bias and variance\n",
        "print(var(as.numeric(p1), as.numeric(as.factor(trdf_RF$music_genre))))\n",
        "bias(as.numeric(p1), as.numeric(as.factor(trdf_RF$music_genre)))"
      ],
      "metadata": {
        "colab": {
          "base_uri": "https://localhost:8080/",
          "height": 52
        },
        "id": "cPRwzU-91atR",
        "outputId": "2ce8af42-0b96-4f62-be19-58eda7cf2574"
      },
      "execution_count": null,
      "outputs": [
        {
          "output_type": "stream",
          "name": "stdout",
          "text": [
            "[1] 8.00267\n"
          ]
        },
        {
          "output_type": "display_data",
          "data": {
            "text/html": [
              "-0.059025"
            ],
            "text/markdown": "-0.059025",
            "text/latex": "-0.059025",
            "text/plain": [
              "[1] -0.059025"
            ]
          },
          "metadata": {}
        }
      ]
    },
    {
      "cell_type": "code",
      "source": [
        "#RMSE\n",
        "RMSE((as.numeric(p2) - as.numeric(tstdf_RF$music_genre)))"
      ],
      "metadata": {
        "colab": {
          "base_uri": "https://localhost:8080/",
          "height": 34
        },
        "id": "5xbixp6PEmXU",
        "outputId": "dbd303f9-49d3-4892-95ed-7f3f09cd03fd"
      },
      "execution_count": null,
      "outputs": [
        {
          "output_type": "display_data",
          "data": {
            "text/html": [
              "2.918167233042"
            ],
            "text/markdown": "2.918167233042",
            "text/latex": "2.918167233042",
            "text/plain": [
              "[1] 2.918167"
            ]
          },
          "metadata": {}
        }
      ]
    },
    {
      "cell_type": "code",
      "source": [
        "#Bias and variance\n",
        "print(var(as.numeric(p2), as.numeric(as.factor(tstdf_RF$music_genre))))\n",
        "bias(as.numeric(p2), as.numeric(as.factor(tstdf_RF$music_genre)))"
      ],
      "metadata": {
        "colab": {
          "base_uri": "https://localhost:8080/",
          "height": 52
        },
        "id": "fh7MwqZ_65Xs",
        "outputId": "92dddf2e-d315-470a-d28c-167241e56ac0"
      },
      "execution_count": null,
      "outputs": [
        {
          "output_type": "stream",
          "name": "stdout",
          "text": [
            "[1] 4.099508\n"
          ]
        },
        {
          "output_type": "display_data",
          "data": {
            "text/html": [
              "0.2103"
            ],
            "text/markdown": "0.2103",
            "text/latex": "0.2103",
            "text/plain": [
              "[1] 0.2103"
            ]
          },
          "metadata": {}
        }
      ]
    },
    {
      "cell_type": "markdown",
      "source": [
        "**BAGGING**"
      ],
      "metadata": {
        "id": "9OcyPUeGE9in"
      }
    },
    {
      "cell_type": "code",
      "source": [
        "#building bagging model\n",
        "bag_model = randomForest(music_genre~., data = trdf_RF, \n",
        "                          mtry = 11, \n",
        "                          importance = TRUE)"
      ],
      "metadata": {
        "id": "a2msTS9OBiLO"
      },
      "execution_count": null,
      "outputs": []
    },
    {
      "cell_type": "code",
      "source": [
        "bag_model\n"
      ],
      "metadata": {
        "colab": {
          "base_uri": "https://localhost:8080/",
          "height": 571
        },
        "id": "FVuAfHHTBiRt",
        "outputId": "4f1da2da-1f98-4824-fee0-a774315fedff"
      },
      "execution_count": null,
      "outputs": [
        {
          "output_type": "display_data",
          "data": {
            "text/plain": [
              "\n",
              "Call:\n",
              " randomForest(formula = music_genre ~ ., data = trdf_RF, mtry = 11,      importance = TRUE) \n",
              "               Type of random forest: classification\n",
              "                     Number of trees: 500\n",
              "No. of variables tried at each split: 11\n",
              "\n",
              "        OOB estimate of  error rate: 46.87%\n",
              "Confusion matrix:\n",
              "            Alternative Anime Blues Classical Country Electronic Hip-Hop Jazz\n",
              "Alternative        1535    34   101        20     502        216     330  229\n",
              "Anime               117  2843   321       254     185        188       2   72\n",
              "Blues               204   315  2160        64     337        204      13  501\n",
              "Classical            95   180    95      3302      30         80       1  195\n",
              "Country             367    47   221         5    2202         59      52  216\n",
              "Electronic          304   180   285        38     104       2317      74  528\n",
              "Hip-Hop             216     0     5         0      47         28    1367   31\n",
              "Jazz                180    48   479       259     246        571      67 1952\n",
              "Rap                 160     1     3         0      54         21    2183   20\n",
              "Rock                545    13    64         9     437         35     142   82\n",
              "             Rap Rock class.error\n",
              "Alternative  209  851   0.6188229\n",
              "Anime          0   24   0.2903145\n",
              "Blues          7  207   0.4616152\n",
              "Classical      0   19   0.1738804\n",
              "Country       63  784   0.4516932\n",
              "Electronic    48  129   0.4217619\n",
              "Hip-Hop     2063  181   0.6528695\n",
              "Jazz          30  170   0.5122439\n",
              "Rap         1165  393   0.7087500\n",
              "Rock         259 2409   0.3969962"
            ]
          },
          "metadata": {}
        }
      ]
    },
    {
      "cell_type": "code",
      "source": [
        "bagged_estimate = predict(bag_model, \n",
        "                          newdata =tstdf_RF)\n",
        "confusionMatrix(as.factor(bagged_estimate),as.factor(tstdf_RF$music_genre))"
      ],
      "metadata": {
        "colab": {
          "base_uri": "https://localhost:8080/",
          "height": 1000
        },
        "id": "BSscJx7_BiWb",
        "outputId": "e579093e-9522-4258-b20f-1c1074d1be1c"
      },
      "execution_count": null,
      "outputs": [
        {
          "output_type": "display_data",
          "data": {
            "text/plain": [
              "Confusion Matrix and Statistics\n",
              "\n",
              "             Reference\n",
              "Prediction    Alternative Anime Blues Classical Country Electronic Hip-Hop Jazz\n",
              "  Alternative         377    28    66        27      86         80      57   49\n",
              "  Anime                 8   718    75        49      11         37       1    7\n",
              "  Blues                22    74   514        34      46         75       1  107\n",
              "  Classical             4    62    14       816       2         10       0   73\n",
              "  Country             114    38    84         5     539         27      12   59\n",
              "  Electronic           38    49    64        10      11        561      11  124\n",
              "  Hip-Hop              87     1     3         0      23         19     389   21\n",
              "  Jazz                 56    17   120        56      66        138      15  496\n",
              "  Rap                  62     0     1         1      25         10     541   11\n",
              "  Rock                205     7    47         5     175         36      35   51\n",
              "             Reference\n",
              "Prediction    Rap Rock\n",
              "  Alternative  36  134\n",
              "  Anime         0    4\n",
              "  Blues         3   10\n",
              "  Classical     0    1\n",
              "  Country       9  112\n",
              "  Electronic   11   12\n",
              "  Hip-Hop     520   31\n",
              "  Jazz          3   19\n",
              "  Rap         313   58\n",
              "  Rock        105  624\n",
              "\n",
              "Overall Statistics\n",
              "                                          \n",
              "               Accuracy : 0.5347          \n",
              "                 95% CI : (0.5249, 0.5445)\n",
              "    No Information Rate : 0.1062          \n",
              "    P-Value [Acc > NIR] : < 2.2e-16       \n",
              "                                          \n",
              "                  Kappa : 0.4829          \n",
              "                                          \n",
              " Mcnemar's Test P-Value : NA              \n",
              "\n",
              "Statistics by Class:\n",
              "\n",
              "                     Class: Alternative Class: Anime Class: Blues\n",
              "Sensitivity                      0.3875       0.7223       0.5202\n",
              "Specificity                      0.9376       0.9787       0.9587\n",
              "Pos Pred Value                   0.4011       0.7890       0.5801\n",
              "Neg Pred Value                   0.9342       0.9696       0.9480\n",
              "Prevalence                       0.0973       0.0994       0.0988\n",
              "Detection Rate                   0.0377       0.0718       0.0514\n",
              "Detection Prevalence             0.0940       0.0910       0.0886\n",
              "Balanced Accuracy                0.6625       0.8505       0.7395\n",
              "                     Class: Classical Class: Country Class: Electronic\n",
              "Sensitivity                    0.8136         0.5478            0.5650\n",
              "Specificity                    0.9815         0.9490            0.9634\n",
              "Pos Pred Value                 0.8310         0.5395            0.6296\n",
              "Neg Pred Value                 0.9793         0.9506            0.9526\n",
              "Prevalence                     0.1003         0.0984            0.0993\n",
              "Detection Rate                 0.0816         0.0539            0.0561\n",
              "Detection Prevalence           0.0982         0.0999            0.0891\n",
              "Balanced Accuracy              0.8976         0.7484            0.7642\n",
              "                     Class: Hip-Hop Class: Jazz Class: Rap Class: Rock\n",
              "Sensitivity                  0.3663      0.4970     0.3130      0.6209\n",
              "Specificity                  0.9211      0.9456     0.9212      0.9260\n",
              "Pos Pred Value               0.3556      0.5030     0.3063      0.4837\n",
              "Neg Pred Value               0.9244      0.9443     0.9235      0.9563\n",
              "Prevalence                   0.1062      0.0998     0.1000      0.1005\n",
              "Detection Rate               0.0389      0.0496     0.0313      0.0624\n",
              "Detection Prevalence         0.1094      0.0986     0.1022      0.1290\n",
              "Balanced Accuracy            0.6437      0.7213     0.6171      0.7734"
            ]
          },
          "metadata": {}
        }
      ]
    },
    {
      "cell_type": "code",
      "source": [
        "#RMSE\n",
        "RMSE(as.numeric(bagged_estimate), as.numeric(tstdf_RF$music_genre))"
      ],
      "metadata": {
        "colab": {
          "base_uri": "https://localhost:8080/",
          "height": 34
        },
        "id": "LeFDRUoLLvjJ",
        "outputId": "c7e756a1-1b06-469f-cfa3-f4c6282021b0"
      },
      "execution_count": null,
      "outputs": [
        {
          "output_type": "display_data",
          "data": {
            "text/html": [
              "2.90137898248402"
            ],
            "text/markdown": "2.90137898248402",
            "text/latex": "2.90137898248402",
            "text/plain": [
              "[1] 2.901379"
            ]
          },
          "metadata": {}
        }
      ]
    },
    {
      "cell_type": "code",
      "source": [
        "#BIAS AND VARIANCE\n",
        "print(var(as.numeric(bagged_estimate), as.numeric(as.factor(tstdf_RF$music_genre))))\n",
        "bias(as.numeric(bagged_estimate), as.numeric(as.factor(tstdf_RF$music_genre)))"
      ],
      "metadata": {
        "colab": {
          "base_uri": "https://localhost:8080/",
          "height": 52
        },
        "id": "odtpxVP-EunJ",
        "outputId": "3742aabd-1a27-4f52-e586-351594fe84b5"
      },
      "execution_count": null,
      "outputs": [
        {
          "output_type": "stream",
          "name": "stdout",
          "text": [
            "[1] 4.16992\n"
          ]
        },
        {
          "output_type": "display_data",
          "data": {
            "text/html": [
              "0.2048"
            ],
            "text/markdown": "0.2048",
            "text/latex": "0.2048",
            "text/plain": [
              "[1] 0.2048"
            ]
          },
          "metadata": {}
        }
      ]
    },
    {
      "cell_type": "code",
      "source": [
        "require(nnet)\n",
        "library(tidyverse)"
      ],
      "metadata": {
        "colab": {
          "base_uri": "https://localhost:8080/"
        },
        "id": "8QvrPmzW6bCx",
        "outputId": "3a9ac003-291d-4013-aa65-10b432a701cc"
      },
      "execution_count": null,
      "outputs": [
        {
          "output_type": "stream",
          "name": "stderr",
          "text": [
            "Loading required package: nnet\n",
            "\n",
            "── \u001b[1mAttaching packages\u001b[22m ─────────────────────────────────────── tidyverse 1.3.1 ──\n",
            "\n",
            "\u001b[32m✔\u001b[39m \u001b[34mtibble \u001b[39m 3.1.8     \u001b[32m✔\u001b[39m \u001b[34mpurrr  \u001b[39m 0.3.5\n",
            "\u001b[32m✔\u001b[39m \u001b[34mtidyr  \u001b[39m 1.2.1     \u001b[32m✔\u001b[39m \u001b[34mstringr\u001b[39m 1.4.1\n",
            "\u001b[32m✔\u001b[39m \u001b[34mreadr  \u001b[39m 2.1.3     \u001b[32m✔\u001b[39m \u001b[34mforcats\u001b[39m 0.5.2\n",
            "\n",
            "── \u001b[1mConflicts\u001b[22m ────────────────────────────────────────── tidyverse_conflicts() ──\n",
            "\u001b[31m✖\u001b[39m \u001b[34mdplyr\u001b[39m::\u001b[32mbetween()\u001b[39m        masks \u001b[34mdata.table\u001b[39m::between()\n",
            "\u001b[31m✖\u001b[39m \u001b[34mrandomForest\u001b[39m::\u001b[32mcombine()\u001b[39m masks \u001b[34mdplyr\u001b[39m::combine()\n",
            "\u001b[31m✖\u001b[39m \u001b[34mdplyr\u001b[39m::\u001b[32mfilter()\u001b[39m         masks \u001b[34mstats\u001b[39m::filter()\n",
            "\u001b[31m✖\u001b[39m \u001b[34mdplyr\u001b[39m::\u001b[32mfirst()\u001b[39m          masks \u001b[34mdata.table\u001b[39m::first()\n",
            "\u001b[31m✖\u001b[39m \u001b[34mdplyr\u001b[39m::\u001b[32mlag()\u001b[39m            masks \u001b[34mstats\u001b[39m::lag()\n",
            "\u001b[31m✖\u001b[39m \u001b[34mdplyr\u001b[39m::\u001b[32mlast()\u001b[39m           masks \u001b[34mdata.table\u001b[39m::last()\n",
            "\u001b[31m✖\u001b[39m \u001b[34mpurrr\u001b[39m::\u001b[32mlift()\u001b[39m           masks \u001b[34mcaret\u001b[39m::lift()\n",
            "\u001b[31m✖\u001b[39m \u001b[34mrandomForest\u001b[39m::\u001b[32mmargin()\u001b[39m  masks \u001b[34mggplot2\u001b[39m::margin()\n",
            "\u001b[31m✖\u001b[39m \u001b[34mtidyr\u001b[39m::\u001b[32mreplace_na()\u001b[39m     masks \u001b[34mmltools\u001b[39m::replace_na()\n",
            "\u001b[31m✖\u001b[39m \u001b[34mpurrr\u001b[39m::\u001b[32mtranspose()\u001b[39m      masks \u001b[34mdata.table\u001b[39m::transpose()\n",
            "\n"
          ]
        }
      ]
    },
    {
      "cell_type": "markdown",
      "source": [
        "**K FOLD CROSS VALIDATION**"
      ],
      "metadata": {
        "id": "JJaMvdArMh7W"
      }
    },
    {
      "cell_type": "code",
      "source": [
        "library(caret)\n",
        "\n",
        "require(e1071)\n",
        "install.packages(\"labelled\")\n",
        "install.packages(\"klaR\")\n",
        "library(klaR)\n",
        "\n"
      ],
      "metadata": {
        "id": "kqereUCIM2mQ",
        "colab": {
          "base_uri": "https://localhost:8080/"
        },
        "outputId": "87c0694d-3345-4148-ca3e-0f7d5295082c"
      },
      "execution_count": null,
      "outputs": [
        {
          "output_type": "stream",
          "name": "stderr",
          "text": [
            "Loading required package: e1071\n",
            "\n",
            "\n",
            "Attaching package: ‘e1071’\n",
            "\n",
            "\n",
            "The following object is masked from ‘package:mltools’:\n",
            "\n",
            "    skewness\n",
            "\n",
            "\n",
            "Installing package into ‘/usr/local/lib/R/site-library’\n",
            "(as ‘lib’ is unspecified)\n",
            "\n",
            "Installing package into ‘/usr/local/lib/R/site-library’\n",
            "(as ‘lib’ is unspecified)\n",
            "\n",
            "Loading required package: MASS\n",
            "\n",
            "\n",
            "Attaching package: ‘MASS’\n",
            "\n",
            "\n",
            "The following object is masked from ‘package:dplyr’:\n",
            "\n",
            "    select\n",
            "\n",
            "\n",
            "Warning message in FUN(X[[i]], ...):\n",
            "“Numerical 0 probability for all classes with observation 264”\n",
            "Warning message in FUN(X[[i]], ...):\n",
            "“Numerical 0 probability for all classes with observation 375”\n",
            "Warning message in FUN(X[[i]], ...):\n",
            "“Numerical 0 probability for all classes with observation 637”\n",
            "Warning message in FUN(X[[i]], ...):\n",
            "“Numerical 0 probability for all classes with observation 1208”\n",
            "Warning message in FUN(X[[i]], ...):\n",
            "“Numerical 0 probability for all classes with observation 1220”\n",
            "Warning message in FUN(X[[i]], ...):\n",
            "“Numerical 0 probability for all classes with observation 1430”\n",
            "Warning message in FUN(X[[i]], ...):\n",
            "“Numerical 0 probability for all classes with observation 1770”\n",
            "Warning message in FUN(X[[i]], ...):\n",
            "“Numerical 0 probability for all classes with observation 1825”\n",
            "Warning message in FUN(X[[i]], ...):\n",
            "“Numerical 0 probability for all classes with observation 1918”\n",
            "Warning message in FUN(X[[i]], ...):\n",
            "“Numerical 0 probability for all classes with observation 3126”\n",
            "Warning message in FUN(X[[i]], ...):\n",
            "“Numerical 0 probability for all classes with observation 3810”\n",
            "Warning message in FUN(X[[i]], ...):\n",
            "“Numerical 0 probability for all classes with observation 4143”\n",
            "Warning message in FUN(X[[i]], ...):\n",
            "“Numerical 0 probability for all classes with observation 4155”\n",
            "Warning message in FUN(X[[i]], ...):\n",
            "“Numerical 0 probability for all classes with observation 4174”\n",
            "Warning message in FUN(X[[i]], ...):\n",
            "“Numerical 0 probability for all classes with observation 4286”\n",
            "Warning message in FUN(X[[i]], ...):\n",
            "“Numerical 0 probability for all classes with observation 4490”\n",
            "Warning message in FUN(X[[i]], ...):\n",
            "“Numerical 0 probability for all classes with observation 4505”\n",
            "Warning message in FUN(X[[i]], ...):\n",
            "“Numerical 0 probability for all classes with observation 4805”\n",
            "Warning message in FUN(X[[i]], ...):\n",
            "“Numerical 0 probability for all classes with observation 214”\n",
            "Warning message in FUN(X[[i]], ...):\n",
            "“Numerical 0 probability for all classes with observation 244”\n",
            "Warning message in FUN(X[[i]], ...):\n",
            "“Numerical 0 probability for all classes with observation 309”\n",
            "Warning message in FUN(X[[i]], ...):\n",
            "“Numerical 0 probability for all classes with observation 455”\n",
            "Warning message in FUN(X[[i]], ...):\n",
            "“Numerical 0 probability for all classes with observation 489”\n",
            "Warning message in FUN(X[[i]], ...):\n",
            "“Numerical 0 probability for all classes with observation 862”\n",
            "Warning message in FUN(X[[i]], ...):\n",
            "“Numerical 0 probability for all classes with observation 871”\n",
            "Warning message in FUN(X[[i]], ...):\n",
            "“Numerical 0 probability for all classes with observation 1020”\n",
            "Warning message in FUN(X[[i]], ...):\n",
            "“Numerical 0 probability for all classes with observation 1133”\n",
            "Warning message in FUN(X[[i]], ...):\n",
            "“Numerical 0 probability for all classes with observation 1219”\n",
            "Warning message in FUN(X[[i]], ...):\n",
            "“Numerical 0 probability for all classes with observation 1258”\n",
            "Warning message in FUN(X[[i]], ...):\n",
            "“Numerical 0 probability for all classes with observation 1271”\n",
            "Warning message in FUN(X[[i]], ...):\n",
            "“Numerical 0 probability for all classes with observation 1427”\n",
            "Warning message in FUN(X[[i]], ...):\n",
            "“Numerical 0 probability for all classes with observation 1514”\n",
            "Warning message in FUN(X[[i]], ...):\n",
            "“Numerical 0 probability for all classes with observation 1590”\n",
            "Warning message in FUN(X[[i]], ...):\n",
            "“Numerical 0 probability for all classes with observation 1628”\n",
            "Warning message in FUN(X[[i]], ...):\n",
            "“Numerical 0 probability for all classes with observation 2158”\n",
            "Warning message in FUN(X[[i]], ...):\n",
            "“Numerical 0 probability for all classes with observation 2251”\n",
            "Warning message in FUN(X[[i]], ...):\n",
            "“Numerical 0 probability for all classes with observation 2623”\n",
            "Warning message in FUN(X[[i]], ...):\n",
            "“Numerical 0 probability for all classes with observation 3164”\n",
            "Warning message in FUN(X[[i]], ...):\n",
            "“Numerical 0 probability for all classes with observation 3176”\n",
            "Warning message in FUN(X[[i]], ...):\n",
            "“Numerical 0 probability for all classes with observation 3435”\n",
            "Warning message in FUN(X[[i]], ...):\n",
            "“Numerical 0 probability for all classes with observation 3937”\n",
            "Warning message in FUN(X[[i]], ...):\n",
            "“Numerical 0 probability for all classes with observation 4094”\n",
            "Warning message in FUN(X[[i]], ...):\n",
            "“Numerical 0 probability for all classes with observation 4118”\n",
            "Warning message in FUN(X[[i]], ...):\n",
            "“Numerical 0 probability for all classes with observation 4130”\n",
            "Warning message in FUN(X[[i]], ...):\n",
            "“Numerical 0 probability for all classes with observation 4262”\n",
            "Warning message in FUN(X[[i]], ...):\n",
            "“Numerical 0 probability for all classes with observation 4420”\n",
            "Warning message in FUN(X[[i]], ...):\n",
            "“Numerical 0 probability for all classes with observation 4812”\n",
            "Warning message in FUN(X[[i]], ...):\n",
            "“Numerical 0 probability for all classes with observation 4887”\n",
            "Warning message in FUN(X[[i]], ...):\n",
            "“Numerical 0 probability for all classes with observation 39”\n",
            "Warning message in FUN(X[[i]], ...):\n",
            "“Numerical 0 probability for all classes with observation 296”\n",
            "Warning message in FUN(X[[i]], ...):\n",
            "“Numerical 0 probability for all classes with observation 817”\n",
            "Warning message in FUN(X[[i]], ...):\n",
            "“Numerical 0 probability for all classes with observation 1127”\n",
            "Warning message in FUN(X[[i]], ...):\n",
            "“Numerical 0 probability for all classes with observation 1138”\n",
            "Warning message in FUN(X[[i]], ...):\n",
            "“Numerical 0 probability for all classes with observation 1182”\n",
            "Warning message in FUN(X[[i]], ...):\n",
            "“Numerical 0 probability for all classes with observation 1308”\n",
            "Warning message in FUN(X[[i]], ...):\n",
            "“Numerical 0 probability for all classes with observation 1455”\n",
            "Warning message in FUN(X[[i]], ...):\n",
            "“Numerical 0 probability for all classes with observation 1703”\n",
            "Warning message in FUN(X[[i]], ...):\n",
            "“Numerical 0 probability for all classes with observation 2556”\n",
            "Warning message in FUN(X[[i]], ...):\n",
            "“Numerical 0 probability for all classes with observation 2732”\n",
            "Warning message in FUN(X[[i]], ...):\n",
            "“Numerical 0 probability for all classes with observation 3184”\n",
            "Warning message in FUN(X[[i]], ...):\n",
            "“Numerical 0 probability for all classes with observation 3295”\n",
            "Warning message in FUN(X[[i]], ...):\n",
            "“Numerical 0 probability for all classes with observation 3381”\n",
            "Warning message in FUN(X[[i]], ...):\n",
            "“Numerical 0 probability for all classes with observation 4022”\n",
            "Warning message in FUN(X[[i]], ...):\n",
            "“Numerical 0 probability for all classes with observation 4133”\n",
            "Warning message in FUN(X[[i]], ...):\n",
            "“Numerical 0 probability for all classes with observation 4182”\n",
            "Warning message in FUN(X[[i]], ...):\n",
            "“Numerical 0 probability for all classes with observation 4287”\n",
            "Warning message in FUN(X[[i]], ...):\n",
            "“Numerical 0 probability for all classes with observation 4295”\n",
            "Warning message in FUN(X[[i]], ...):\n",
            "“Numerical 0 probability for all classes with observation 4320”\n",
            "Warning message in FUN(X[[i]], ...):\n",
            "“Numerical 0 probability for all classes with observation 4370”\n",
            "Warning message in FUN(X[[i]], ...):\n",
            "“Numerical 0 probability for all classes with observation 4415”\n",
            "Warning message in FUN(X[[i]], ...):\n",
            "“Numerical 0 probability for all classes with observation 4419”\n",
            "Warning message in FUN(X[[i]], ...):\n",
            "“Numerical 0 probability for all classes with observation 4479”\n",
            "Warning message in FUN(X[[i]], ...):\n",
            "“Numerical 0 probability for all classes with observation 4482”\n",
            "Warning message in FUN(X[[i]], ...):\n",
            "“Numerical 0 probability for all classes with observation 4495”\n",
            "Warning message in FUN(X[[i]], ...):\n",
            "“Numerical 0 probability for all classes with observation 4669”\n",
            "Warning message in FUN(X[[i]], ...):\n",
            "“Numerical 0 probability for all classes with observation 4959”\n",
            "Warning message in FUN(X[[i]], ...):\n",
            "“Numerical 0 probability for all classes with observation 577”\n",
            "Warning message in FUN(X[[i]], ...):\n",
            "“Numerical 0 probability for all classes with observation 1039”\n",
            "Warning message in FUN(X[[i]], ...):\n",
            "“Numerical 0 probability for all classes with observation 1095”\n",
            "Warning message in FUN(X[[i]], ...):\n",
            "“Numerical 0 probability for all classes with observation 1734”\n",
            "Warning message in FUN(X[[i]], ...):\n",
            "“Numerical 0 probability for all classes with observation 2295”\n",
            "Warning message in FUN(X[[i]], ...):\n",
            "“Numerical 0 probability for all classes with observation 2757”\n",
            "Warning message in FUN(X[[i]], ...):\n",
            "“Numerical 0 probability for all classes with observation 2988”\n",
            "Warning message in FUN(X[[i]], ...):\n",
            "“Numerical 0 probability for all classes with observation 4132”\n",
            "Warning message in FUN(X[[i]], ...):\n",
            "“Numerical 0 probability for all classes with observation 4195”\n",
            "Warning message in FUN(X[[i]], ...):\n",
            "“Numerical 0 probability for all classes with observation 4281”\n",
            "Warning message in FUN(X[[i]], ...):\n",
            "“Numerical 0 probability for all classes with observation 4960”\n",
            "Warning message in FUN(X[[i]], ...):\n",
            "“Numerical 0 probability for all classes with observation 67”\n",
            "Warning message in FUN(X[[i]], ...):\n",
            "“Numerical 0 probability for all classes with observation 92”\n",
            "Warning message in FUN(X[[i]], ...):\n",
            "“Numerical 0 probability for all classes with observation 198”\n",
            "Warning message in FUN(X[[i]], ...):\n",
            "“Numerical 0 probability for all classes with observation 247”\n",
            "Warning message in FUN(X[[i]], ...):\n",
            "“Numerical 0 probability for all classes with observation 271”\n",
            "Warning message in FUN(X[[i]], ...):\n",
            "“Numerical 0 probability for all classes with observation 822”\n",
            "Warning message in FUN(X[[i]], ...):\n",
            "“Numerical 0 probability for all classes with observation 1148”\n",
            "Warning message in FUN(X[[i]], ...):\n",
            "“Numerical 0 probability for all classes with observation 1682”\n",
            "Warning message in FUN(X[[i]], ...):\n",
            "“Numerical 0 probability for all classes with observation 2658”\n",
            "Warning message in FUN(X[[i]], ...):\n",
            "“Numerical 0 probability for all classes with observation 3212”\n",
            "Warning message in FUN(X[[i]], ...):\n",
            "“Numerical 0 probability for all classes with observation 3279”\n",
            "Warning message in FUN(X[[i]], ...):\n",
            "“Numerical 0 probability for all classes with observation 4024”\n",
            "Warning message in FUN(X[[i]], ...):\n",
            "“Numerical 0 probability for all classes with observation 4182”\n",
            "Warning message in FUN(X[[i]], ...):\n",
            "“Numerical 0 probability for all classes with observation 4284”\n",
            "Warning message in FUN(X[[i]], ...):\n",
            "“Numerical 0 probability for all classes with observation 4382”\n",
            "Warning message in FUN(X[[i]], ...):\n",
            "“Numerical 0 probability for all classes with observation 4479”\n",
            "Warning message in FUN(X[[i]], ...):\n",
            "“Numerical 0 probability for all classes with observation 4582”\n",
            "Warning message in FUN(X[[i]], ...):\n",
            "“Numerical 0 probability for all classes with observation 4680”\n",
            "Warning message in FUN(X[[i]], ...):\n",
            "“Numerical 0 probability for all classes with observation 4825”\n",
            "Warning message in FUN(X[[i]], ...):\n",
            "“Numerical 0 probability for all classes with observation 179”\n",
            "Warning message in FUN(X[[i]], ...):\n",
            "“Numerical 0 probability for all classes with observation 481”\n",
            "Warning message in FUN(X[[i]], ...):\n",
            "“Numerical 0 probability for all classes with observation 1085”\n",
            "Warning message in FUN(X[[i]], ...):\n",
            "“Numerical 0 probability for all classes with observation 1289”\n",
            "Warning message in FUN(X[[i]], ...):\n",
            "“Numerical 0 probability for all classes with observation 1359”\n",
            "Warning message in FUN(X[[i]], ...):\n",
            "“Numerical 0 probability for all classes with observation 1455”\n",
            "Warning message in FUN(X[[i]], ...):\n",
            "“Numerical 0 probability for all classes with observation 2928”\n",
            "Warning message in FUN(X[[i]], ...):\n",
            "“Numerical 0 probability for all classes with observation 3003”\n",
            "Warning message in FUN(X[[i]], ...):\n",
            "“Numerical 0 probability for all classes with observation 3108”\n",
            "Warning message in FUN(X[[i]], ...):\n",
            "“Numerical 0 probability for all classes with observation 4023”\n",
            "Warning message in FUN(X[[i]], ...):\n",
            "“Numerical 0 probability for all classes with observation 4030”\n",
            "Warning message in FUN(X[[i]], ...):\n",
            "“Numerical 0 probability for all classes with observation 4065”\n",
            "Warning message in FUN(X[[i]], ...):\n",
            "“Numerical 0 probability for all classes with observation 4109”\n",
            "Warning message in FUN(X[[i]], ...):\n",
            "“Numerical 0 probability for all classes with observation 4142”\n",
            "Warning message in FUN(X[[i]], ...):\n",
            "“Numerical 0 probability for all classes with observation 4146”\n",
            "Warning message in FUN(X[[i]], ...):\n",
            "“Numerical 0 probability for all classes with observation 4245”\n",
            "Warning message in FUN(X[[i]], ...):\n",
            "“Numerical 0 probability for all classes with observation 4319”\n",
            "Warning message in FUN(X[[i]], ...):\n",
            "“Numerical 0 probability for all classes with observation 4389”\n",
            "Warning message in FUN(X[[i]], ...):\n",
            "“Numerical 0 probability for all classes with observation 4401”\n",
            "Warning message in FUN(X[[i]], ...):\n",
            "“Numerical 0 probability for all classes with observation 4458”\n",
            "Warning message in FUN(X[[i]], ...):\n",
            "“Numerical 0 probability for all classes with observation 4619”\n",
            "Warning message in FUN(X[[i]], ...):\n",
            "“Numerical 0 probability for all classes with observation 4734”\n",
            "Warning message in FUN(X[[i]], ...):\n",
            "“Numerical 0 probability for all classes with observation 4974”\n",
            "Warning message in FUN(X[[i]], ...):\n",
            "“Numerical 0 probability for all classes with observation 214”\n",
            "Warning message in FUN(X[[i]], ...):\n",
            "“Numerical 0 probability for all classes with observation 1455”\n",
            "Warning message in FUN(X[[i]], ...):\n",
            "“Numerical 0 probability for all classes with observation 1506”\n",
            "Warning message in FUN(X[[i]], ...):\n",
            "“Numerical 0 probability for all classes with observation 1968”\n",
            "Warning message in FUN(X[[i]], ...):\n",
            "“Numerical 0 probability for all classes with observation 2696”\n",
            "Warning message in FUN(X[[i]], ...):\n",
            "“Numerical 0 probability for all classes with observation 3108”\n",
            "Warning message in FUN(X[[i]], ...):\n",
            "“Numerical 0 probability for all classes with observation 3185”\n",
            "Warning message in FUN(X[[i]], ...):\n",
            "“Numerical 0 probability for all classes with observation 3240”\n",
            "Warning message in FUN(X[[i]], ...):\n",
            "“Numerical 0 probability for all classes with observation 3406”\n",
            "Warning message in FUN(X[[i]], ...):\n",
            "“Numerical 0 probability for all classes with observation 3446”\n",
            "Warning message in FUN(X[[i]], ...):\n",
            "“Numerical 0 probability for all classes with observation 3725”\n",
            "Warning message in FUN(X[[i]], ...):\n",
            "“Numerical 0 probability for all classes with observation 4009”\n",
            "Warning message in FUN(X[[i]], ...):\n",
            "“Numerical 0 probability for all classes with observation 4210”\n",
            "Warning message in FUN(X[[i]], ...):\n",
            "“Numerical 0 probability for all classes with observation 4232”\n",
            "Warning message in FUN(X[[i]], ...):\n",
            "“Numerical 0 probability for all classes with observation 4434”\n",
            "Warning message in FUN(X[[i]], ...):\n",
            "“Numerical 0 probability for all classes with observation 4441”\n",
            "Warning message in FUN(X[[i]], ...):\n",
            "“Numerical 0 probability for all classes with observation 4491”\n",
            "Warning message in FUN(X[[i]], ...):\n",
            "“Numerical 0 probability for all classes with observation 4685”\n",
            "Warning message in FUN(X[[i]], ...):\n",
            "“Numerical 0 probability for all classes with observation 4888”\n",
            "Warning message in FUN(X[[i]], ...):\n",
            "“Numerical 0 probability for all classes with observation 82”\n",
            "Warning message in FUN(X[[i]], ...):\n",
            "“Numerical 0 probability for all classes with observation 284”\n",
            "Warning message in FUN(X[[i]], ...):\n",
            "“Numerical 0 probability for all classes with observation 308”\n",
            "Warning message in FUN(X[[i]], ...):\n",
            "“Numerical 0 probability for all classes with observation 796”\n",
            "Warning message in FUN(X[[i]], ...):\n",
            "“Numerical 0 probability for all classes with observation 1351”\n",
            "Warning message in FUN(X[[i]], ...):\n",
            "“Numerical 0 probability for all classes with observation 1381”\n",
            "Warning message in FUN(X[[i]], ...):\n",
            "“Numerical 0 probability for all classes with observation 1394”\n",
            "Warning message in FUN(X[[i]], ...):\n",
            "“Numerical 0 probability for all classes with observation 1442”\n",
            "Warning message in FUN(X[[i]], ...):\n",
            "“Numerical 0 probability for all classes with observation 2881”\n",
            "Warning message in FUN(X[[i]], ...):\n",
            "“Numerical 0 probability for all classes with observation 3034”\n",
            "Warning message in FUN(X[[i]], ...):\n",
            "“Numerical 0 probability for all classes with observation 3352”\n",
            "Warning message in FUN(X[[i]], ...):\n",
            "“Numerical 0 probability for all classes with observation 3412”\n",
            "Warning message in FUN(X[[i]], ...):\n",
            "“Numerical 0 probability for all classes with observation 3447”\n",
            "Warning message in FUN(X[[i]], ...):\n",
            "“Numerical 0 probability for all classes with observation 3452”\n",
            "Warning message in FUN(X[[i]], ...):\n",
            "“Numerical 0 probability for all classes with observation 3454”\n",
            "Warning message in FUN(X[[i]], ...):\n",
            "“Numerical 0 probability for all classes with observation 3461”\n",
            "Warning message in FUN(X[[i]], ...):\n",
            "“Numerical 0 probability for all classes with observation 3470”\n",
            "Warning message in FUN(X[[i]], ...):\n",
            "“Numerical 0 probability for all classes with observation 4033”\n",
            "Warning message in FUN(X[[i]], ...):\n",
            "“Numerical 0 probability for all classes with observation 4128”\n",
            "Warning message in FUN(X[[i]], ...):\n",
            "“Numerical 0 probability for all classes with observation 4172”\n",
            "Warning message in FUN(X[[i]], ...):\n",
            "“Numerical 0 probability for all classes with observation 4200”\n",
            "Warning message in FUN(X[[i]], ...):\n",
            "“Numerical 0 probability for all classes with observation 4228”\n",
            "Warning message in FUN(X[[i]], ...):\n",
            "“Numerical 0 probability for all classes with observation 4435”\n",
            "Warning message in FUN(X[[i]], ...):\n",
            "“Numerical 0 probability for all classes with observation 4721”\n",
            "Warning message in FUN(X[[i]], ...):\n",
            "“Numerical 0 probability for all classes with observation 4939”\n",
            "Warning message in FUN(X[[i]], ...):\n",
            "“Numerical 0 probability for all classes with observation 23”\n",
            "Warning message in FUN(X[[i]], ...):\n",
            "“Numerical 0 probability for all classes with observation 708”\n",
            "Warning message in FUN(X[[i]], ...):\n",
            "“Numerical 0 probability for all classes with observation 1061”\n",
            "Warning message in FUN(X[[i]], ...):\n",
            "“Numerical 0 probability for all classes with observation 1108”\n",
            "Warning message in FUN(X[[i]], ...):\n",
            "“Numerical 0 probability for all classes with observation 1214”\n",
            "Warning message in FUN(X[[i]], ...):\n",
            "“Numerical 0 probability for all classes with observation 1246”\n",
            "Warning message in FUN(X[[i]], ...):\n",
            "“Numerical 0 probability for all classes with observation 1368”\n",
            "Warning message in FUN(X[[i]], ...):\n",
            "“Numerical 0 probability for all classes with observation 1395”\n",
            "Warning message in FUN(X[[i]], ...):\n",
            "“Numerical 0 probability for all classes with observation 1399”\n",
            "Warning message in FUN(X[[i]], ...):\n",
            "“Numerical 0 probability for all classes with observation 1458”\n",
            "Warning message in FUN(X[[i]], ...):\n",
            "“Numerical 0 probability for all classes with observation 1477”\n",
            "Warning message in FUN(X[[i]], ...):\n",
            "“Numerical 0 probability for all classes with observation 1714”\n",
            "Warning message in FUN(X[[i]], ...):\n",
            "“Numerical 0 probability for all classes with observation 1964”\n",
            "Warning message in FUN(X[[i]], ...):\n",
            "“Numerical 0 probability for all classes with observation 2197”\n",
            "Warning message in FUN(X[[i]], ...):\n",
            "“Numerical 0 probability for all classes with observation 2213”\n",
            "Warning message in FUN(X[[i]], ...):\n",
            "“Numerical 0 probability for all classes with observation 3391”\n",
            "Warning message in FUN(X[[i]], ...):\n",
            "“Numerical 0 probability for all classes with observation 3399”\n",
            "Warning message in FUN(X[[i]], ...):\n",
            "“Numerical 0 probability for all classes with observation 3465”\n",
            "Warning message in FUN(X[[i]], ...):\n",
            "“Numerical 0 probability for all classes with observation 3477”\n",
            "Warning message in FUN(X[[i]], ...):\n",
            "“Numerical 0 probability for all classes with observation 4115”\n",
            "Warning message in FUN(X[[i]], ...):\n",
            "“Numerical 0 probability for all classes with observation 4178”\n",
            "Warning message in FUN(X[[i]], ...):\n",
            "“Numerical 0 probability for all classes with observation 4320”\n",
            "Warning message in FUN(X[[i]], ...):\n",
            "“Numerical 0 probability for all classes with observation 4328”\n",
            "Warning message in FUN(X[[i]], ...):\n",
            "“Numerical 0 probability for all classes with observation 4457”\n",
            "Warning message in FUN(X[[i]], ...):\n",
            "“Numerical 0 probability for all classes with observation 4708”\n",
            "Warning message in FUN(X[[i]], ...):\n",
            "“Numerical 0 probability for all classes with observation 4973”\n",
            "Warning message in FUN(X[[i]], ...):\n",
            "“Numerical 0 probability for all classes with observation 312”\n",
            "Warning message in FUN(X[[i]], ...):\n",
            "“Numerical 0 probability for all classes with observation 1193”\n",
            "Warning message in FUN(X[[i]], ...):\n",
            "“Numerical 0 probability for all classes with observation 1331”\n",
            "Warning message in FUN(X[[i]], ...):\n",
            "“Numerical 0 probability for all classes with observation 3128”\n",
            "Warning message in FUN(X[[i]], ...):\n",
            "“Numerical 0 probability for all classes with observation 3134”\n",
            "Warning message in FUN(X[[i]], ...):\n",
            "“Numerical 0 probability for all classes with observation 3283”\n",
            "Warning message in FUN(X[[i]], ...):\n",
            "“Numerical 0 probability for all classes with observation 3359”\n",
            "Warning message in FUN(X[[i]], ...):\n",
            "“Numerical 0 probability for all classes with observation 3460”\n",
            "Warning message in FUN(X[[i]], ...):\n",
            "“Numerical 0 probability for all classes with observation 4021”\n",
            "Warning message in FUN(X[[i]], ...):\n",
            "“Numerical 0 probability for all classes with observation 4030”\n",
            "Warning message in FUN(X[[i]], ...):\n",
            "“Numerical 0 probability for all classes with observation 4178”\n",
            "Warning message in FUN(X[[i]], ...):\n",
            "“Numerical 0 probability for all classes with observation 4443”\n"
          ]
        }
      ]
    },
    {
      "cell_type": "code",
      "source": [
        "set.seed(5596)\n",
        "#building model\n",
        "train_control <- trainControl(method = \"cv\",\n",
        "                              number = 10)\n",
        "\n",
        "model <- train(music_genre~., data = music_data,\n",
        "               trControl = train_control,\n",
        "               method = \"nb\")"
      ],
      "metadata": {
        "id": "vDAQjwwx1c6_"
      },
      "execution_count": null,
      "outputs": []
    },
    {
      "cell_type": "code",
      "source": [
        "print(model)"
      ],
      "metadata": {
        "colab": {
          "base_uri": "https://localhost:8080/"
        },
        "id": "IvlIgj4ZM2tB",
        "outputId": "12490371-7e5c-4b07-8f5e-9b7d5b461f45"
      },
      "execution_count": null,
      "outputs": [
        {
          "output_type": "stream",
          "name": "stdout",
          "text": [
            "Naive Bayes \n",
            "\n",
            "50000 samples\n",
            "   11 predictor\n",
            "   10 classes: 'Alternative', 'Anime', 'Blues', 'Classical', 'Country', 'Electronic', 'Hip-Hop', 'Jazz', 'Rap', 'Rock' \n",
            "\n",
            "No pre-processing\n",
            "Resampling: Cross-Validated (10 fold) \n",
            "Summary of sample sizes: 45000, 45000, 45000, 45000, 45000, 45000, ... \n",
            "Resampling results across tuning parameters:\n",
            "\n",
            "  usekernel  Accuracy  Kappa    \n",
            "  FALSE      0.42318   0.3590889\n",
            "   TRUE      0.37020   0.3002222\n",
            "\n",
            "Tuning parameter 'fL' was held constant at a value of 0\n",
            "Tuning\n",
            " parameter 'adjust' was held constant at a value of 1\n",
            "Accuracy was used to select the optimal model using the largest value.\n",
            "The final values used for the model were fL = 0, usekernel = FALSE and adjust\n",
            " = 1.\n"
          ]
        }
      ]
    },
    {
      "cell_type": "code",
      "source": [
        "tstdf_RF=test_set\n",
        "dim(tstdf_RF)\n",
        "tstdf_RF$music_genre=as.factor(tstdf_RF$music_genre)\n",
        "k_p=predict(model,tstdf_RF)"
      ],
      "metadata": {
        "colab": {
          "base_uri": "https://localhost:8080/",
          "height": 1000
        },
        "id": "RSxZBUw_M2vX",
        "outputId": "14ba26a0-65ab-4493-c2bc-1ade20312351"
      },
      "execution_count": null,
      "outputs": [
        {
          "output_type": "display_data",
          "data": {
            "text/html": [
              "<style>\n",
              ".list-inline {list-style: none; margin:0; padding: 0}\n",
              ".list-inline>li {display: inline-block}\n",
              ".list-inline>li:not(:last-child)::after {content: \"\\00b7\"; padding: 0 .5ex}\n",
              "</style>\n",
              "<ol class=list-inline><li>10000</li><li>12</li></ol>\n"
            ],
            "text/markdown": "1. 10000\n2. 12\n\n\n",
            "text/latex": "\\begin{enumerate*}\n\\item 10000\n\\item 12\n\\end{enumerate*}\n",
            "text/plain": [
              "[1] 10000    12"
            ]
          },
          "metadata": {}
        },
        {
          "output_type": "stream",
          "name": "stderr",
          "text": [
            "Warning message in FUN(X[[i]], ...):\n",
            "“Numerical 0 probability for all classes with observation 59”\n",
            "Warning message in FUN(X[[i]], ...):\n",
            "“Numerical 0 probability for all classes with observation 157”\n",
            "Warning message in FUN(X[[i]], ...):\n",
            "“Numerical 0 probability for all classes with observation 928”\n",
            "Warning message in FUN(X[[i]], ...):\n",
            "“Numerical 0 probability for all classes with observation 936”\n",
            "Warning message in FUN(X[[i]], ...):\n",
            "“Numerical 0 probability for all classes with observation 1145”\n",
            "Warning message in FUN(X[[i]], ...):\n",
            "“Numerical 0 probability for all classes with observation 1569”\n",
            "Warning message in FUN(X[[i]], ...):\n",
            "“Numerical 0 probability for all classes with observation 1608”\n",
            "Warning message in FUN(X[[i]], ...):\n",
            "“Numerical 0 probability for all classes with observation 1742”\n",
            "Warning message in FUN(X[[i]], ...):\n",
            "“Numerical 0 probability for all classes with observation 2087”\n",
            "Warning message in FUN(X[[i]], ...):\n",
            "“Numerical 0 probability for all classes with observation 2136”\n",
            "Warning message in FUN(X[[i]], ...):\n",
            "“Numerical 0 probability for all classes with observation 2148”\n",
            "Warning message in FUN(X[[i]], ...):\n",
            "“Numerical 0 probability for all classes with observation 2233”\n",
            "Warning message in FUN(X[[i]], ...):\n",
            "“Numerical 0 probability for all classes with observation 2380”\n",
            "Warning message in FUN(X[[i]], ...):\n",
            "“Numerical 0 probability for all classes with observation 2430”\n",
            "Warning message in FUN(X[[i]], ...):\n",
            "“Numerical 0 probability for all classes with observation 2880”\n",
            "Warning message in FUN(X[[i]], ...):\n",
            "“Numerical 0 probability for all classes with observation 2890”\n",
            "Warning message in FUN(X[[i]], ...):\n",
            "“Numerical 0 probability for all classes with observation 3007”\n",
            "Warning message in FUN(X[[i]], ...):\n",
            "“Numerical 0 probability for all classes with observation 3031”\n",
            "Warning message in FUN(X[[i]], ...):\n",
            "“Numerical 0 probability for all classes with observation 3188”\n",
            "Warning message in FUN(X[[i]], ...):\n",
            "“Numerical 0 probability for all classes with observation 3373”\n",
            "Warning message in FUN(X[[i]], ...):\n",
            "“Numerical 0 probability for all classes with observation 4271”\n",
            "Warning message in FUN(X[[i]], ...):\n",
            "“Numerical 0 probability for all classes with observation 4534”\n",
            "Warning message in FUN(X[[i]], ...):\n",
            "“Numerical 0 probability for all classes with observation 5057”\n",
            "Warning message in FUN(X[[i]], ...):\n",
            "“Numerical 0 probability for all classes with observation 5240”\n",
            "Warning message in FUN(X[[i]], ...):\n",
            "“Numerical 0 probability for all classes with observation 5913”\n",
            "Warning message in FUN(X[[i]], ...):\n",
            "“Numerical 0 probability for all classes with observation 6143”\n",
            "Warning message in FUN(X[[i]], ...):\n",
            "“Numerical 0 probability for all classes with observation 6190”\n",
            "Warning message in FUN(X[[i]], ...):\n",
            "“Numerical 0 probability for all classes with observation 6664”\n",
            "Warning message in FUN(X[[i]], ...):\n",
            "“Numerical 0 probability for all classes with observation 6693”\n",
            "Warning message in FUN(X[[i]], ...):\n",
            "“Numerical 0 probability for all classes with observation 6731”\n",
            "Warning message in FUN(X[[i]], ...):\n",
            "“Numerical 0 probability for all classes with observation 6739”\n",
            "Warning message in FUN(X[[i]], ...):\n",
            "“Numerical 0 probability for all classes with observation 6823”\n",
            "Warning message in FUN(X[[i]], ...):\n",
            "“Numerical 0 probability for all classes with observation 6843”\n",
            "Warning message in FUN(X[[i]], ...):\n",
            "“Numerical 0 probability for all classes with observation 6859”\n",
            "Warning message in FUN(X[[i]], ...):\n",
            "“Numerical 0 probability for all classes with observation 7995”\n",
            "Warning message in FUN(X[[i]], ...):\n",
            "“Numerical 0 probability for all classes with observation 8059”\n",
            "Warning message in FUN(X[[i]], ...):\n",
            "“Numerical 0 probability for all classes with observation 8170”\n",
            "Warning message in FUN(X[[i]], ...):\n",
            "“Numerical 0 probability for all classes with observation 8302”\n",
            "Warning message in FUN(X[[i]], ...):\n",
            "“Numerical 0 probability for all classes with observation 8345”\n",
            "Warning message in FUN(X[[i]], ...):\n",
            "“Numerical 0 probability for all classes with observation 8505”\n",
            "Warning message in FUN(X[[i]], ...):\n",
            "“Numerical 0 probability for all classes with observation 8575”\n",
            "Warning message in FUN(X[[i]], ...):\n",
            "“Numerical 0 probability for all classes with observation 8710”\n",
            "Warning message in FUN(X[[i]], ...):\n",
            "“Numerical 0 probability for all classes with observation 8763”\n",
            "Warning message in FUN(X[[i]], ...):\n",
            "“Numerical 0 probability for all classes with observation 8918”\n",
            "Warning message in FUN(X[[i]], ...):\n",
            "“Numerical 0 probability for all classes with observation 8942”\n",
            "Warning message in FUN(X[[i]], ...):\n",
            "“Numerical 0 probability for all classes with observation 9170”\n",
            "Warning message in FUN(X[[i]], ...):\n",
            "“Numerical 0 probability for all classes with observation 9317”\n",
            "Warning message in FUN(X[[i]], ...):\n",
            "“Numerical 0 probability for all classes with observation 9334”\n",
            "Warning message in FUN(X[[i]], ...):\n",
            "“Numerical 0 probability for all classes with observation 9568”\n",
            "Warning message in FUN(X[[i]], ...):\n",
            "“Numerical 0 probability for all classes with observation 9895”\n"
          ]
        }
      ]
    },
    {
      "cell_type": "code",
      "source": [
        "confusionMatrix(k_p,tstdf_RF$music_genre)"
      ],
      "metadata": {
        "colab": {
          "base_uri": "https://localhost:8080/",
          "height": 1000
        },
        "id": "i_TOmtiPM2xL",
        "outputId": "66cf6e9a-ba58-4818-e72e-d42e5fa9ab93"
      },
      "execution_count": null,
      "outputs": [
        {
          "output_type": "display_data",
          "data": {
            "text/plain": [
              "Confusion Matrix and Statistics\n",
              "\n",
              "             Reference\n",
              "Prediction    Alternative Anime Blues Classical Country Electronic Hip-Hop Jazz\n",
              "  Alternative         192    23    56        15      43         77      25   32\n",
              "  Anime                 3   320    67        17      14         45       0   31\n",
              "  Blues                 9    35   201        14      25         25       5   56\n",
              "  Classical            10   195    46       871      15         22       0  170\n",
              "  Country             392   275   392        30     736        146     124  156\n",
              "  Electronic           49   117    89        14      17        472       9  155\n",
              "  Hip-Hop             103     2    12         0      45         57     415   72\n",
              "  Jazz                 62    22   113        39      35        100      23  308\n",
              "  Rap                  87     2     1         0      22         29     441    5\n",
              "  Rock                 66     3    11         3      32         20      20   13\n",
              "             Reference\n",
              "Prediction    Rap Rock\n",
              "  Alternative  22   73\n",
              "  Anime         1    2\n",
              "  Blues         2    8\n",
              "  Classical     0   14\n",
              "  Country     127  457\n",
              "  Electronic    7   17\n",
              "  Hip-Hop     287   16\n",
              "  Jazz         19   35\n",
              "  Rap         478  128\n",
              "  Rock         57  255\n",
              "\n",
              "Overall Statistics\n",
              "                                          \n",
              "               Accuracy : 0.4248          \n",
              "                 95% CI : (0.4151, 0.4346)\n",
              "    No Information Rate : 0.1062          \n",
              "    P-Value [Acc > NIR] : < 2.2e-16       \n",
              "                                          \n",
              "                  Kappa : 0.3609          \n",
              "                                          \n",
              " Mcnemar's Test P-Value : NA              \n",
              "\n",
              "Statistics by Class:\n",
              "\n",
              "                     Class: Alternative Class: Anime Class: Blues\n",
              "Sensitivity                      0.1973       0.3219       0.2034\n",
              "Specificity                      0.9595       0.9800       0.9801\n",
              "Pos Pred Value                   0.3441       0.6400       0.5289\n",
              "Neg Pred Value                   0.9173       0.9291       0.9182\n",
              "Prevalence                       0.0973       0.0994       0.0988\n",
              "Detection Rate                   0.0192       0.0320       0.0201\n",
              "Detection Prevalence             0.0558       0.0500       0.0380\n",
              "Balanced Accuracy                0.5784       0.6510       0.5918\n",
              "                     Class: Classical Class: Country Class: Electronic\n",
              "Sensitivity                    0.8684         0.7480            0.4753\n",
              "Specificity                    0.9475         0.7672            0.9474\n",
              "Pos Pred Value                 0.6485         0.2596            0.4989\n",
              "Neg Pred Value                 0.9848         0.9654            0.9425\n",
              "Prevalence                     0.1003         0.0984            0.0993\n",
              "Detection Rate                 0.0871         0.0736            0.0472\n",
              "Detection Prevalence           0.1343         0.2835            0.0946\n",
              "Balanced Accuracy              0.9080         0.7576            0.7114\n",
              "                     Class: Hip-Hop Class: Jazz Class: Rap Class: Rock\n",
              "Sensitivity                  0.3908      0.3086     0.4780      0.2537\n",
              "Specificity                  0.9335      0.9502     0.9206      0.9750\n",
              "Pos Pred Value               0.4113      0.4074     0.4007      0.5312\n",
              "Neg Pred Value               0.9280      0.9254     0.9407      0.9212\n",
              "Prevalence                   0.1062      0.0998     0.1000      0.1005\n",
              "Detection Rate               0.0415      0.0308     0.0478      0.0255\n",
              "Detection Prevalence         0.1009      0.0756     0.1193      0.0480\n",
              "Balanced Accuracy            0.6622      0.6294     0.6993      0.6144"
            ]
          },
          "metadata": {}
        }
      ]
    },
    {
      "cell_type": "code",
      "source": [
        "#RMSE\n",
        "RMSE(as.numeric(k_p), as.numeric(tstdf_RF$music_genre))"
      ],
      "metadata": {
        "colab": {
          "base_uri": "https://localhost:8080/",
          "height": 34
        },
        "id": "u8toqYGKS_vX",
        "outputId": "ac57f94b-2d90-4a6a-9691-b5fc44c30d06"
      },
      "execution_count": null,
      "outputs": [
        {
          "output_type": "display_data",
          "data": {
            "text/html": [
              "2.86311019697112"
            ],
            "text/markdown": "2.86311019697112",
            "text/latex": "2.86311019697112",
            "text/plain": [
              "[1] 2.86311"
            ]
          },
          "metadata": {}
        }
      ]
    },
    {
      "cell_type": "code",
      "source": [
        "#bias and variance\n",
        "print(var(as.numeric(k_p), as.numeric(as.factor(tstdf_RF$music_genre))))\n",
        "bias(as.numeric(k_p), as.numeric(as.factor(tstdf_RF$music_genre)))"
      ],
      "metadata": {
        "colab": {
          "base_uri": "https://localhost:8080/",
          "height": 52
        },
        "id": "hP9jaKmWS36m",
        "outputId": "47b826ed-861e-45dd-89e4-f55547149233"
      },
      "execution_count": null,
      "outputs": [
        {
          "output_type": "stream",
          "name": "stdout",
          "text": [
            "[1] 2.753635\n"
          ]
        },
        {
          "output_type": "display_data",
          "data": {
            "text/html": [
              "0.1286"
            ],
            "text/markdown": "0.1286",
            "text/latex": "0.1286",
            "text/plain": [
              "[1] 0.1286"
            ]
          },
          "metadata": {}
        }
      ]
    },
    {
      "cell_type": "markdown",
      "source": [],
      "metadata": {
        "id": "Qu2vE4n3BNHV"
      }
    }
  ]
}